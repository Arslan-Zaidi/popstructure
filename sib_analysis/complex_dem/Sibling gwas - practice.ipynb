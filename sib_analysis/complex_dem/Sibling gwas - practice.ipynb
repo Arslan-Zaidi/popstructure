
import argparse
parser=argparse.ArgumentParser()
req_grp=parser.add_argument_group(title="Required arguments")

req_grp.add_argument("--haplotypes", "-g", dest="ht", help="haplotype array in npz format", type=str, required=True)
req_grp.add_argument("--phenotypes", "-p", dest="phenotypes", help="file with phenotypes per person", type=str, required=True)
req_grp.add_argument("--outpre", "-o", dest="outpre", help="prefix for output file - should be informative about mating", type=str, required=True)
req_grp.add_argument("--legend", "-l", dest="legend", help="file with snp information", type=str, required=True)
parser.add_argument("--iteration", "-i", dest="iteration", help="iteration", type=str, default="1", nargs="?")
args=parser.parse_args()

import numpy as np
import statistics
import math
import allel
import statsmodels.api as sm
import pandas as pd
from scipy import stats

#read compressed haplotype array
ht = np.load(args.ht)
ht = ht['arr_0']

nsnps = ht.shape[0]
ninds = ht.shape[1]//2

#read legend file - snps info
snps = pd.read_csv('/Users/Azaidi/gwas_bias2/gwas/complex_dem/test/sibs/genotypes/genos_complex_l1e7_ss500_m0.08_chr1_i1_sibs_assort.legend',
                   delim_whitespace=True)

#calculate allele frequency for each variant and filter out
daf = np.mean(ht, axis = 1)

#keep SNPs that are polymorphic
polymorphic_ix = np.where((daf>0) & (daf<1))[0]

ht = ht[polymorphic_ix,:]
snps = snps.iloc[polymorphic_ix]

#convert to scikit.allel genotype format
ht = allel.HaplotypeArray(ht)
gt = ht.to_genotypes(ploidy=2)

#convert gt to alternate allele count
gt = gt.to_n_alt()

#calculate difference between SNPs
odd_sibs = gt[:,0::2]
even_sibs = gt[:,1::2]

gtd = gt[:,0::2] - gt[:,1::2]
