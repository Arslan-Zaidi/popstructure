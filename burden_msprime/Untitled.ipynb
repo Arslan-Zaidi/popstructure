{
 "cells": [
  {
   "cell_type": "code",
   "execution_count": 87,
   "metadata": {},
   "outputs": [],
   "source": [
    "import msprime\n",
    "import numpy as np\n",
    "import statistics\n",
    "import math\n",
    "import allel\n",
    "import pandas as pd\n",
    "import statsmodels.api as sm\n",
    "from scipy import (stats,ndimage)\n"
   ]
  },
  {
   "cell_type": "code",
   "execution_count": 88,
   "metadata": {},
   "outputs": [],
   "source": [
    "d = 36\n",
    "\n",
    "# dimension of square grid\n",
    "dim=int(np.sqrt(d))\n",
    "\n",
    "# define 2d grid to with deme identity\n",
    "pmat=np.arange(0,d).reshape(dim,dim)"
   ]
  },
  {
   "cell_type": "code",
   "execution_count": 89,
   "metadata": {},
   "outputs": [],
   "source": [
    "#define function to generate adjacency matrix\n",
    "#arguments:\n",
    "#m = migration rate in one direction\n",
    "#nd = number of demes\n",
    "def step_mig_mat(m,nd):\n",
    "    #m is the uni-directional symmetric migration rate\n",
    "    #NOTE: nd MUST be a squared number\n",
    "    if(math.sqrt(nd).is_integer()==False):\n",
    "        raise ValueError(\"nd must be a squared number (e.g. 4, 9, 16 ...) for the 2D model\")\n",
    "    else:\n",
    "        nd2=int(math.sqrt(nd))\n",
    "        #create matrix which will be used to determine which cells are adjacent in 2-dimensions\n",
    "        #diagonals not considered for now but can be incorporated later if needed\n",
    "        pmat=np.arange(0,nd).reshape(nd2,nd2)\n",
    "\n",
    "        #create empty migration matrix to be filled in. This will be the output\n",
    "        mmat=np.zeros(shape=[nd,nd])\n",
    "\n",
    "        #go through each cell in pmat and find out which cells are adjacent\n",
    "        #first define functions to take care of corners and sides\n",
    "        def contain(ix,max_ix):\n",
    "            if ix<0:\n",
    "                return(0)\n",
    "            if ix>(max_ix-1):\n",
    "                return(max_ix-1)\n",
    "            else:\n",
    "                return(ix)\n",
    "\n",
    "        for ii in range(nd):\n",
    "            center_ix=np.where(pmat==ii)\n",
    "            top_ix=pmat[contain(center_ix[0]-1,nd2),contain(center_ix[1],nd2)]\n",
    "            bottom_ix=pmat[contain(center_ix[0]+1,nd2),contain(center_ix[1],nd2)]\n",
    "            left_ix=pmat[contain(center_ix[0],nd2),contain(center_ix[1]-1,nd2)]\n",
    "            right_ix=pmat[contain(center_ix[0],nd2),contain(center_ix[1]+1,nd2)]\n",
    "\n",
    "            mmat[ii,top_ix]=mmat[ii,bottom_ix]=mmat[ii,left_ix]=mmat[ii,right_ix]=m\n",
    "            mmat[top_ix,ii]=mmat[bottom_ix,ii]=mmat[left_ix,ii]=mmat[right_ix,ii]=m\n",
    "\n",
    "            mmat[ii,ii]=0\n",
    "\n",
    "    return(mmat)\n"
   ]
  },
  {
   "cell_type": "code",
   "execution_count": 90,
   "metadata": {},
   "outputs": [],
   "source": [
    "#generate migration matrix with migration rate provided by user\n",
    "mig_mat=step_mig_mat(m=0.05,nd=d)\n",
    "\n",
    "#diploid sample size within each deme\n",
    "ss=250\n",
    "\n",
    "#number of haplotypes\n",
    "nhaps=ss*2\n",
    "\n",
    "##### define function to simulate genotypes under a stepping stone migration model\n",
    "def step_geno(ss_each=ss*2,tmove=100,rho=0):\n",
    "    #N is the population size for each deme\n",
    "    #ss_each is the haploid sample size for each deme\n",
    "    #l is the length of the chromosome\n",
    "    #tmove is the number of generations past which all lineages are moved into one deme.\n",
    "    \t#The is to reduce computational time when the no. of lineages << ndemes\n",
    "        #also to mimic migration of an ancient population after which structure is established\n",
    "        #set to 1000 generations by default\n",
    "\n",
    "    sample_sizes=[ss_each]*d\n",
    "\n",
    "    population_configurations = [\n",
    "    msprime.PopulationConfiguration(sample_size=k)\n",
    "    for k in sample_sizes]\n",
    "\n",
    "\n",
    "    if tmove==-9:\n",
    "         ts=msprime.simulate(Ne=1e4,\n",
    "                          population_configurations=population_configurations,\n",
    "                          migration_matrix=mig_mat,\n",
    "                          mutation_rate=1e-08,\n",
    "                          recombination_rate=rho,\n",
    "                          length=39000)\n",
    "    else:\n",
    "        #specify demographic event - move all lineages to one population after tmove generations\n",
    "        demog=[\n",
    "            msprime.MassMigration(\n",
    "                time=tmove,\n",
    "                source=i,\n",
    "                destination=d-1,\n",
    "                proportion=1.0) for i in range(d-1)]\n",
    "\n",
    "        demog.append(#change migration rate among demes to be 0\n",
    "            msprime.MigrationRateChange(\n",
    "                time=tmove,\n",
    "                rate=0))\n",
    "\n",
    "\n",
    "        ts=msprime.simulate(Ne=1e4,\n",
    "                              population_configurations=population_configurations,\n",
    "                              migration_matrix=mig_mat,\n",
    "                              mutation_rate=1e-08,\n",
    "                              recombination_rate=rho,\n",
    "                              length=39000,\n",
    "                           demographic_events=demog)\n",
    "\n",
    "    return(ts)"
   ]
  },
  {
   "cell_type": "code",
   "execution_count": 91,
   "metadata": {},
   "outputs": [
    {
     "name": "stdout",
     "output_type": "stream",
     "text": [
      "simulating genealogies\n",
      "calculating burden for each gene\n"
     ]
    }
   ],
   "source": [
    "print(\"simulating genealogies\")\n",
    "#simulate!\n",
    "ts=step_geno(ss_each=ss*2,tmove=100,rho=0)\n",
    "\n",
    "print(\"calculating burden for each gene\")\n",
    "#describe the exon structure of the genes\n",
    "#we don't need the introns or the UTRs as we did in SLIM\n",
    "gene_ranges=[(201,345),(7291,7435),(10836,10980),(14381,14525),(17926,18070),(21471,21615),(25016,25160),(28561,28705)]\n"
   ]
  },
  {
   "cell_type": "code",
   "execution_count": 92,
   "metadata": {},
   "outputs": [],
   "source": [
    "#define vectors, which will be used to select the odd and even haplotypes of an individual\n",
    "evens=range(0,ss*2*d,2)\n",
    "odds=range(1,ss*2*d,2)"
   ]
  },
  {
   "cell_type": "code",
   "execution_count": 93,
   "metadata": {},
   "outputs": [],
   "source": [
    "def calculate_burden(tree_sequence,gene_ranges2):\n",
    "    #get burden and sample a single rare variant from each gene\n",
    "    dosage=[]\n",
    "    for variant in tree_sequence.variants():\n",
    "        if any(lower<=variant.site.position<=upper for (lower,upper) in gene_ranges2):\n",
    "            daf=np.mean(variant.genotypes)\n",
    "            if(daf<0.001):\n",
    "                dosage.append(variant.genotypes[evens]+variant.genotypes[odds])\n",
    "\n",
    "    #aggregate across all such variants and calculate burden for each individual\n",
    "    #check if the dosage is nonzero first\n",
    "    #found a situation where there were no rare variants in a gene (with rho=1e-08)\n",
    "    #if dosage==0, append nan. we will deal with this later\n",
    "    if(len(dosage)==0):\n",
    "        burden =np.repeat(np.nan,ss*d)\n",
    "        #variants.append(np.repeat(np.nan,ss*d))\n",
    "    else:\n",
    "        burden =np.sum(dosage,axis=0)\n",
    "        \n",
    "    return burden"
   ]
  },
  {
   "cell_type": "code",
   "execution_count": 94,
   "metadata": {},
   "outputs": [],
   "source": [
    "test=calculate_burden(ts,gene_ranges)"
   ]
  },
  {
   "cell_type": "code",
   "execution_count": 95,
   "metadata": {},
   "outputs": [],
   "source": [
    "burdens=np.empty((9000,len(gene_ranges)))\n",
    "for i in range(0,len(gene_ranges)):\n",
    "    burdens[:,i] = calculate_burden(ts,gene_ranges[0:i]) "
   ]
  },
  {
   "cell_type": "code",
   "execution_count": 96,
   "metadata": {},
   "outputs": [],
   "source": [
    "burdens=burdens.astype(str)"
   ]
  },
  {
   "cell_type": "code",
   "execution_count": 97,
   "metadata": {},
   "outputs": [],
   "source": [
    "np.savetxt(\"/Users/Azaidi/gwas_bias2/burden_msprime/burden_msprime_t100_rho0_clustering_1gene.txt\",burdens,fmt=\"%s\",delimiter=\",\")"
   ]
  },
  {
   "cell_type": "code",
   "execution_count": 98,
   "metadata": {},
   "outputs": [
    {
     "name": "stdout",
     "output_type": "stream",
     "text": [
      "simulating genealogies with recombination\n"
     ]
    }
   ],
   "source": [
    "print(\"simulating genealogies with recombination\")\n",
    "#simulate!\n",
    "ts=step_geno(ss_each=ss*2,tmove=100,rho=1e-08)"
   ]
  },
  {
   "cell_type": "code",
   "execution_count": 99,
   "metadata": {},
   "outputs": [],
   "source": [
    "test=calculate_burden(ts,gene_ranges)\n",
    "\n",
    "burdens=np.empty((9000,len(gene_ranges)))\n",
    "for i in range(0,len(gene_ranges)):\n",
    "    burdens[:,i] = calculate_burden(ts,gene_ranges[0:i]) \n",
    "    \n",
    "burdens=burdens.astype(str)\n",
    "np.savetxt(\"/Users/Azaidi/gwas_bias2/burden_msprime/burden_msprime_t100_rho1e-08_clustering_1gene.txt\",burdens,fmt=\"%s\",delimiter=\",\")"
   ]
  }
 ],
 "metadata": {
  "kernelspec": {
   "display_name": "Python 3",
   "language": "python",
   "name": "python3"
  },
  "language_info": {
   "codemirror_mode": {
    "name": "ipython",
    "version": 3
   },
   "file_extension": ".py",
   "mimetype": "text/x-python",
   "name": "python",
   "nbconvert_exporter": "python",
   "pygments_lexer": "ipython3",
   "version": "3.6.8"
  }
 },
 "nbformat": 4,
 "nbformat_minor": 2
}
