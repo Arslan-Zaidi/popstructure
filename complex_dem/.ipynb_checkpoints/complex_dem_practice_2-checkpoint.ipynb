{
 "cells": [
  {
   "cell_type": "code",
   "execution_count": 6,
   "metadata": {},
   "outputs": [],
   "source": [
    "class Namespace:\n",
    "    def __init__(self, **kwargs):\n",
    "        self.__dict__.update(kwargs)\n",
    "\n",
    "args=Namespace(rho=0,\n",
    "               seed=9384,\n",
    "              npop=1e4,\n",
    "              mu=1e-08,\n",
    "              m=0.05,\n",
    "              ndemes=36,\n",
    "              tmove=100,\n",
    "              ss=10)"
   ]
  },
  {
   "cell_type": "code",
   "execution_count": 7,
   "metadata": {},
   "outputs": [],
   "source": [
    "import msprime\n",
    "import numpy as np\n",
    "import statistics\n",
    "import math\n",
    "import allel\n",
    "import pandas as pd\n",
    "import statsmodels.api as sm\n",
    "from scipy import (stats,ndimage)"
   ]
  },
  {
   "cell_type": "code",
   "execution_count": 8,
   "metadata": {},
   "outputs": [],
   "source": [
    "#number of demes\n",
    "d=args.ndemes\n",
    "\n",
    "# dimension of square grid\n",
    "dim=int(np.sqrt(d))\n",
    "\n",
    "# define 2d grid to with deme identity\n",
    "pmat=np.arange(0,d).reshape(dim,dim)"
   ]
  },
  {
   "cell_type": "code",
   "execution_count": 9,
   "metadata": {},
   "outputs": [],
   "source": [
    "#define function to generate adjacency matrix\n",
    "#arguments:\n",
    "#m = migration rate in one direction\n",
    "#nd = number of demes\n",
    "def step_mig_mat(m,nd):\n",
    "    #m is the uni-directional symmetric migration rate\n",
    "    #NOTE: nd MUST be a squared number\n",
    "    if(math.sqrt(nd).is_integer()==False):\n",
    "        raise ValueError(\"nd must be a squared number (e.g. 4, 9, 16 ...) for the 2D model\")\n",
    "    else:\n",
    "        nd2=int(math.sqrt(nd))\n",
    "        #create matrix which will be used to determine which cells are adjacent in 2-dimensions\n",
    "        #diagonals not considered for now but can be incorporated later if needed\n",
    "        pmat=np.arange(0,nd).reshape(nd2,nd2)\n",
    "\n",
    "        #create empty migration matrix to be filled in. This will be the output\n",
    "        mmat=np.zeros(shape=[ (nd+3),(nd+3) ])\n",
    "\n",
    "        #go through each cell in pmat and find out which cells are adjacent\n",
    "        #first define functions to take care of corners and sides\n",
    "        def contain(ix,max_ix):\n",
    "            if ix<0:\n",
    "                return(0)\n",
    "            if ix>(max_ix-1):\n",
    "                return(max_ix-1)\n",
    "            else:\n",
    "                return(ix)\n",
    "\n",
    "        for ii in range(nd):\n",
    "            center_ix=np.where(pmat==ii)\n",
    "            top_ix=pmat[contain(center_ix[0]-1,nd2),contain(center_ix[1],nd2)]\n",
    "            bottom_ix=pmat[contain(center_ix[0]+1,nd2),contain(center_ix[1],nd2)]\n",
    "            left_ix=pmat[contain(center_ix[0],nd2),contain(center_ix[1]-1,nd2)]\n",
    "            right_ix=pmat[contain(center_ix[0],nd2),contain(center_ix[1]+1,nd2)]\n",
    "\n",
    "            mmat[ii,top_ix]=mmat[ii,bottom_ix]=mmat[ii,left_ix]=mmat[ii,right_ix]=m\n",
    "            mmat[top_ix,ii]=mmat[bottom_ix,ii]=mmat[left_ix,ii]=mmat[right_ix,ii]=m\n",
    "\n",
    "            mmat[ii,ii]=0\n",
    "\n",
    "    return(mmat)\n",
    "\n",
    "#generate migration matrix with migration rate provided by user\n",
    "mig_mat=step_mig_mat(m=0.05,nd=d)"
   ]
  },
  {
   "cell_type": "code",
   "execution_count": 10,
   "metadata": {},
   "outputs": [],
   "source": [
    "#set up the initial population\n",
    "ss_each=args.ss*2\n",
    "sample_sizes=[ss_each]*36\n",
    "\n",
    "population_configurations = [\n",
    "msprime.PopulationConfiguration(sample_size=k)\n",
    "for k in sample_sizes]\n",
    "\n",
    "population_configurations.extend([msprime.PopulationConfiguration(sample_size=0)]*3)\n"
   ]
  },
  {
   "cell_type": "code",
   "execution_count": 11,
   "metadata": {},
   "outputs": [],
   "source": [
    "############ set up the demography\n",
    "\n",
    "#move all northern lineages\n",
    "demog=[msprime.MassMigration(\n",
    "    time=100, source=i, destination=0, proportion=1.0) for i in range(1,39)]\n",
    "\n",
    "ts=msprime.simulate(Ne=args.npop,\n",
    "                      population_configurations=population_configurations,\n",
    "                      migration_matrix=mig_mat,\n",
    "                      mutation_rate=1e-08,\n",
    "                      recombination_rate=0,\n",
    "                      length=1e6,\n",
    "                   demographic_events=demog)"
   ]
  },
  {
   "cell_type": "code",
   "execution_count": 20,
   "metadata": {},
   "outputs": [],
   "source": [
    "############ set up the demography\n",
    "\n",
    "\n",
    "#ROW 1\n",
    "#move first row with probability 1\n",
    "demog=[msprime.MassMigration(time=100, source=i, destination=0, proportion=1.0) for i in range(1,6)]\n",
    "\n",
    "#ROW2\n",
    "#move second row to the north with probability 0.8\n",
    "demog.extend(\n",
    "    [msprime.MassMigration(time=100, source=i, destination=0, proportion=0.8) for i in range(6,12)],\n",
    "    \n",
    "    #move the rest to the south\n",
    "    [msprime.MassMigration(time=101, source=i, destination=35, proportion=1) for i in range(6,12)],\n",
    "\n",
    "    #ROW3\n",
    "    #move second row to the north with probability 0.6\n",
    "    [msprime.MassMigration(time=100, source=i, destination=0, proportion=0.6) for i in range(12,18)],\n",
    "\n",
    "    #move the rest to the south\n",
    "    [msprime.MassMigration(time=101, source=i, destination=35, proportion=1) for i in range(12,18)],\n",
    "\n",
    "    #ROW4\n",
    "    #move second row to the north with probability 0.4\n",
    "    [msprime.MassMigration(time=100, source=i, destination=0, proportion=0.4) for i in range(18,24)],\n",
    "\n",
    "    #move the rest to the south\n",
    "    [msprime.MassMigration(time=101, source=i, destination=35, proportion=1) for i in range(18,24)],\n",
    "\n",
    "    #ROW5\n",
    "    #move second row to the north with probability 0.8\n",
    "    [msprime.MassMigration(time=100, source=i, destination=0, proportion=0.2) for i in range(24,30)],\n",
    "\n",
    "    #move the rest to the south\n",
    "    [msprime.MassMigration(time=101, source=i, destination=35, proportion=1) for i in range(24,30)],\n",
    "\n",
    "    #ROW 6\n",
    "    #move the rest to the south\n",
    "    [msprime.MassMigration(time=100, source=i, destination=35, proportion=1) for i in range(30,34)])\n",
    "\n",
    "\n",
    "demog_adds=[\n",
    "#change migration rate b/w all demes to 0\n",
    "msprime.MigrationRateChange(time=100,rate=0),\n",
    "\n",
    "#t 4500: Migrate lineages from 35 > 36 (WHG-south to Steppe) & from 0 > 36 (WHG1 to steppe)\n",
    "msprime.MassMigration(\n",
    "        time=4500, source=35, destination=36, proportion=0.2),\n",
    "        \n",
    "msprime.MassMigration(\n",
    "        time=4501, source=0, destination=36, proportion=0.5),\n",
    "\n",
    "#t 7510: Migrate lineages from 35 > 38 (WHG-south > EF) & 0>38 (WHG-n > EF)\n",
    "msprime.MassMigration(\n",
    "        time=7510, source=35, destination=38, proportion=0.75),\n",
    "        \n",
    "msprime.MassMigration(\n",
    "        time=7511, source=0, destination=38, proportion=0.4),\n",
    "\n",
    "#t 9000: Migrate lineages 36 > 37: steppe to EF & WHG1 and WHG2 merge\n",
    "msprime.MassMigration(\n",
    "        time=9000, source=36, destination=37, proportion=0.5),\n",
    "        \n",
    "msprime.MassMigration(\n",
    "        time=9001, source=35, destination=0, proportion=1),\n",
    "\n",
    "#t 25k: Migrate lineages 36 > 38, steppe & EF merge\n",
    "msprime.MassMigration(\n",
    "        time=25000, source=36, destination=38, proportion=1),\n",
    "\n",
    "#t 30k: Migrate lineages 0 > 37: HG and basal Eurasians merge\n",
    "msprime.MassMigration(\n",
    "        time=30000, source=0, destination=37, proportion=1),\n",
    "\n",
    "#t 45k: Migrate lineages 37 > 38: HG and basal Eurasians merge    \n",
    "msprime.MassMigration(\n",
    "        time=45000, source=37, destination=38, proportion=1)]\n",
    "\n",
    "demog.extend(demog_adds)\n",
    "\n"
   ]
  },
  {
   "cell_type": "code",
   "execution_count": 21,
   "metadata": {},
   "outputs": [
    {
     "ename": "LibraryError",
     "evalue": "Infinite waiting time until next simulation event.",
     "output_type": "error",
     "traceback": [
      "\u001b[0;31m---------------------------------------------------------------------------\u001b[0m",
      "\u001b[0;31mLibraryError\u001b[0m                              Traceback (most recent call last)",
      "\u001b[0;32m<timed exec>\u001b[0m in \u001b[0;36m<module>\u001b[0;34m\u001b[0m\n",
      "\u001b[0;32m~/anaconda3/envs/py3/lib/python3.6/site-packages/msprime/simulations.py\u001b[0m in \u001b[0;36msimulate\u001b[0;34m(sample_size, Ne, length, recombination_rate, recombination_map, mutation_rate, population_configurations, migration_matrix, demographic_events, samples, model, record_migrations, random_seed, mutation_generator, num_replicates, from_ts, start_time, end_time, record_full_arg, num_labels)\u001b[0m\n\u001b[1;32m    483\u001b[0m     \u001b[0;32mif\u001b[0m \u001b[0mnum_replicates\u001b[0m \u001b[0;32mis\u001b[0m \u001b[0;32mNone\u001b[0m\u001b[0;34m:\u001b[0m\u001b[0;34m\u001b[0m\u001b[0;34m\u001b[0m\u001b[0m\n\u001b[1;32m    484\u001b[0m         return next(_replicate_generator(\n\u001b[0;32m--> 485\u001b[0;31m             sim, mutation_generator, 1, provenance_dict, end_time))\n\u001b[0m\u001b[1;32m    486\u001b[0m     \u001b[0;32melse\u001b[0m\u001b[0;34m:\u001b[0m\u001b[0;34m\u001b[0m\u001b[0;34m\u001b[0m\u001b[0m\n\u001b[1;32m    487\u001b[0m         return _replicate_generator(\n",
      "\u001b[0;32m~/anaconda3/envs/py3/lib/python3.6/site-packages/msprime/simulations.py\u001b[0m in \u001b[0;36m_replicate_generator\u001b[0;34m(sim, mutation_generator, num_replicates, provenance_dict, end_time)\u001b[0m\n\u001b[1;32m    161\u001b[0m     \u001b[0mprovenance_record\u001b[0m \u001b[0;34m=\u001b[0m \u001b[0mjson\u001b[0m\u001b[0;34m.\u001b[0m\u001b[0mdumps\u001b[0m\u001b[0;34m(\u001b[0m\u001b[0mprovenance_dict\u001b[0m\u001b[0;34m)\u001b[0m\u001b[0;34m\u001b[0m\u001b[0;34m\u001b[0m\u001b[0m\n\u001b[1;32m    162\u001b[0m     \u001b[0;32mfor\u001b[0m \u001b[0mj\u001b[0m \u001b[0;32min\u001b[0m \u001b[0mrange\u001b[0m\u001b[0;34m(\u001b[0m\u001b[0mnum_replicates\u001b[0m\u001b[0;34m)\u001b[0m\u001b[0;34m:\u001b[0m\u001b[0;34m\u001b[0m\u001b[0;34m\u001b[0m\u001b[0m\n\u001b[0;32m--> 163\u001b[0;31m         \u001b[0msim\u001b[0m\u001b[0;34m.\u001b[0m\u001b[0mrun\u001b[0m\u001b[0;34m(\u001b[0m\u001b[0mend_time\u001b[0m\u001b[0;34m)\u001b[0m\u001b[0;34m\u001b[0m\u001b[0;34m\u001b[0m\u001b[0m\n\u001b[0m\u001b[1;32m    164\u001b[0m         \u001b[0mtree_sequence\u001b[0m \u001b[0;34m=\u001b[0m \u001b[0msim\u001b[0m\u001b[0;34m.\u001b[0m\u001b[0mget_tree_sequence\u001b[0m\u001b[0;34m(\u001b[0m\u001b[0mmutation_generator\u001b[0m\u001b[0;34m,\u001b[0m \u001b[0mprovenance_record\u001b[0m\u001b[0;34m)\u001b[0m\u001b[0;34m\u001b[0m\u001b[0;34m\u001b[0m\u001b[0m\n\u001b[1;32m    165\u001b[0m         \u001b[0;32myield\u001b[0m \u001b[0mtree_sequence\u001b[0m\u001b[0;34m\u001b[0m\u001b[0;34m\u001b[0m\u001b[0m\n",
      "\u001b[0;32m~/anaconda3/envs/py3/lib/python3.6/site-packages/msprime/simulations.py\u001b[0m in \u001b[0;36mrun\u001b[0;34m(self, end_time)\u001b[0m\n\u001b[1;32m    702\u001b[0m             \u001b[0mself\u001b[0m\u001b[0;34m.\u001b[0m\u001b[0mll_sim\u001b[0m\u001b[0;34m.\u001b[0m\u001b[0mset_model\u001b[0m\u001b[0;34m(\u001b[0m\u001b[0mevent\u001b[0m\u001b[0;34m.\u001b[0m\u001b[0mmodel\u001b[0m\u001b[0;34m.\u001b[0m\u001b[0mget_ll_representation\u001b[0m\u001b[0;34m(\u001b[0m\u001b[0;34m)\u001b[0m\u001b[0;34m)\u001b[0m\u001b[0;34m\u001b[0m\u001b[0;34m\u001b[0m\u001b[0m\n\u001b[1;32m    703\u001b[0m         \u001b[0mend_time\u001b[0m \u001b[0;34m=\u001b[0m \u001b[0msys\u001b[0m\u001b[0;34m.\u001b[0m\u001b[0mfloat_info\u001b[0m\u001b[0;34m.\u001b[0m\u001b[0mmax\u001b[0m \u001b[0;32mif\u001b[0m \u001b[0mend_time\u001b[0m \u001b[0;32mis\u001b[0m \u001b[0;32mNone\u001b[0m \u001b[0;32melse\u001b[0m \u001b[0mend_time\u001b[0m\u001b[0;34m\u001b[0m\u001b[0;34m\u001b[0m\u001b[0m\n\u001b[0;32m--> 704\u001b[0;31m         \u001b[0mself\u001b[0m\u001b[0;34m.\u001b[0m\u001b[0mll_sim\u001b[0m\u001b[0;34m.\u001b[0m\u001b[0mrun\u001b[0m\u001b[0;34m(\u001b[0m\u001b[0mend_time\u001b[0m\u001b[0;34m)\u001b[0m\u001b[0;34m\u001b[0m\u001b[0;34m\u001b[0m\u001b[0m\n\u001b[0m\u001b[1;32m    705\u001b[0m         \u001b[0mself\u001b[0m\u001b[0;34m.\u001b[0m\u001b[0mll_sim\u001b[0m\u001b[0;34m.\u001b[0m\u001b[0mfinalise_tables\u001b[0m\u001b[0;34m(\u001b[0m\u001b[0;34m)\u001b[0m\u001b[0;34m\u001b[0m\u001b[0;34m\u001b[0m\u001b[0m\n\u001b[1;32m    706\u001b[0m \u001b[0;34m\u001b[0m\u001b[0m\n",
      "\u001b[0;31mLibraryError\u001b[0m: Infinite waiting time until next simulation event."
     ]
    }
   ],
   "source": [
    "%%time\n",
    "ts=msprime.simulate(Ne=args.npop,\n",
    "                      population_configurations=population_configurations,\n",
    "                      migration_matrix=mig_mat,\n",
    "                      mutation_rate=1e-08,\n",
    "                      recombination_rate=0,\n",
    "                      length=1e6,\n",
    "                   demographic_events=demog)"
   ]
  },
  {
   "cell_type": "code",
   "execution_count": 15,
   "metadata": {},
   "outputs": [
    {
     "data": {
      "text/plain": [
       "[1, 2, 3, 4]"
      ]
     },
     "execution_count": 15,
     "metadata": {},
     "output_type": "execute_result"
    }
   ],
   "source": [
    "list(range(1,5))"
   ]
  },
  {
   "cell_type": "code",
   "execution_count": null,
   "metadata": {},
   "outputs": [],
   "source": []
  }
 ],
 "metadata": {
  "kernelspec": {
   "display_name": "Python 3",
   "language": "python",
   "name": "python3"
  },
  "language_info": {
   "codemirror_mode": {
    "name": "ipython",
    "version": 3
   },
   "file_extension": ".py",
   "mimetype": "text/x-python",
   "name": "python",
   "nbconvert_exporter": "python",
   "pygments_lexer": "ipython3",
   "version": "3.6.8"
  }
 },
 "nbformat": 4,
 "nbformat_minor": 4
}
