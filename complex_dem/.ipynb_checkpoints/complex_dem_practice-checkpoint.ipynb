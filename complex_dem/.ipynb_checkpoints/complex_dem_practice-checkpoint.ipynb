{
 "cells": [
  {
   "cell_type": "code",
   "execution_count": 1,
   "metadata": {},
   "outputs": [],
   "source": [
    "class Namespace:\n",
    "    def __init__(self, **kwargs):\n",
    "        self.__dict__.update(kwargs)\n",
    "\n",
    "args=Namespace(rho=0,\n",
    "               seed=9384,\n",
    "              npop=1e4,\n",
    "              mu=1e-08,\n",
    "              m=0.05,\n",
    "              ndemes=36,\n",
    "              tmove=100,\n",
    "              ss=2)"
   ]
  },
  {
   "cell_type": "code",
   "execution_count": 2,
   "metadata": {},
   "outputs": [],
   "source": [
    "import msprime\n",
    "import numpy as np\n",
    "import statistics\n",
    "import math\n",
    "import allel\n",
    "import pandas as pd\n",
    "import statsmodels.api as sm\n",
    "from scipy import (stats,ndimage)"
   ]
  },
  {
   "cell_type": "code",
   "execution_count": 3,
   "metadata": {},
   "outputs": [],
   "source": [
    "#number of demes\n",
    "d=args.ndemes\n",
    "\n",
    "# dimension of square grid\n",
    "dim=int(np.sqrt(d))\n",
    "\n",
    "# define 2d grid to with deme identity\n",
    "pmat=np.arange(0,d).reshape(dim,dim)"
   ]
  },
  {
   "cell_type": "code",
   "execution_count": 4,
   "metadata": {},
   "outputs": [],
   "source": [
    "#define function to generate adjacency matrix\n",
    "#arguments:\n",
    "#m = migration rate in one direction\n",
    "#nd = number of demes\n",
    "def step_mig_mat(m,nd):\n",
    "    #m is the uni-directional symmetric migration rate\n",
    "    #NOTE: nd MUST be a squared number\n",
    "    if(math.sqrt(nd).is_integer()==False):\n",
    "        raise ValueError(\"nd must be a squared number (e.g. 4, 9, 16 ...) for the 2D model\")\n",
    "    else:\n",
    "        nd2=int(math.sqrt(nd))\n",
    "        #create matrix which will be used to determine which cells are adjacent in 2-dimensions\n",
    "        #diagonals not considered for now but can be incorporated later if needed\n",
    "        pmat=np.arange(0,nd).reshape(nd2,nd2)\n",
    "\n",
    "        #create empty migration matrix to be filled in. This will be the output\n",
    "        mmat=np.zeros(shape=[nd,nd])\n",
    "\n",
    "        #go through each cell in pmat and find out which cells are adjacent\n",
    "        #first define functions to take care of corners and sides\n",
    "        def contain(ix,max_ix):\n",
    "            if ix<0:\n",
    "                return(0)\n",
    "            if ix>(max_ix-1):\n",
    "                return(max_ix-1)\n",
    "            else:\n",
    "                return(ix)\n",
    "\n",
    "        for ii in range(nd):\n",
    "            center_ix=np.where(pmat==ii)\n",
    "            top_ix=pmat[contain(center_ix[0]-1,nd2),contain(center_ix[1],nd2)]\n",
    "            bottom_ix=pmat[contain(center_ix[0]+1,nd2),contain(center_ix[1],nd2)]\n",
    "            left_ix=pmat[contain(center_ix[0],nd2),contain(center_ix[1]-1,nd2)]\n",
    "            right_ix=pmat[contain(center_ix[0],nd2),contain(center_ix[1]+1,nd2)]\n",
    "\n",
    "            mmat[ii,top_ix]=mmat[ii,bottom_ix]=mmat[ii,left_ix]=mmat[ii,right_ix]=m\n",
    "            mmat[top_ix,ii]=mmat[bottom_ix,ii]=mmat[left_ix,ii]=mmat[right_ix,ii]=m\n",
    "\n",
    "            mmat[ii,ii]=0\n",
    "\n",
    "    return(mmat)\n",
    "\n",
    "#generate migration matrix with migration rate provided by user\n",
    "mig_mat=step_mig_mat(m=0.05,nd=d)"
   ]
  },
  {
   "cell_type": "code",
   "execution_count": 8,
   "metadata": {},
   "outputs": [
    {
     "ename": "NameError",
     "evalue": "name 'contain' is not defined",
     "output_type": "error",
     "traceback": [
      "\u001b[0;31m---------------------------------------------------------------------------\u001b[0m",
      "\u001b[0;31mNameError\u001b[0m                                 Traceback (most recent call last)",
      "\u001b[0;32m<ipython-input-8-c185250827a8>\u001b[0m in \u001b[0;36m<module>\u001b[0;34m\u001b[0m\n\u001b[1;32m      1\u001b[0m \u001b[0mnd2\u001b[0m\u001b[0;34m=\u001b[0m\u001b[0mmath\u001b[0m\u001b[0;34m.\u001b[0m\u001b[0msqrt\u001b[0m\u001b[0;34m(\u001b[0m\u001b[0md\u001b[0m\u001b[0;34m)\u001b[0m\u001b[0;34m\u001b[0m\u001b[0;34m\u001b[0m\u001b[0m\n\u001b[1;32m      2\u001b[0m \u001b[0;32mfor\u001b[0m \u001b[0mii\u001b[0m \u001b[0;32min\u001b[0m \u001b[0mrange\u001b[0m\u001b[0;34m(\u001b[0m\u001b[0md\u001b[0m\u001b[0;34m)\u001b[0m\u001b[0;34m:\u001b[0m\u001b[0;34m\u001b[0m\u001b[0;34m\u001b[0m\u001b[0m\n\u001b[0;32m----> 3\u001b[0;31m     \u001b[0mcontain\u001b[0m\u001b[0;34m(\u001b[0m\u001b[0mcenter_ix\u001b[0m\u001b[0;34m[\u001b[0m\u001b[0;36m0\u001b[0m\u001b[0;34m]\u001b[0m\u001b[0;34m-\u001b[0m\u001b[0;36m1\u001b[0m\u001b[0;34m,\u001b[0m\u001b[0mnd2\u001b[0m\u001b[0;34m)\u001b[0m\u001b[0;34m\u001b[0m\u001b[0;34m\u001b[0m\u001b[0m\n\u001b[0m",
      "\u001b[0;31mNameError\u001b[0m: name 'contain' is not defined"
     ]
    }
   ],
   "source": [
    "nd2=math.sqrt(d)\n",
    "for ii in range(d):\n",
    "    contain(center_ix[0]-1,nd2)"
   ]
  },
  {
   "cell_type": "code",
   "execution_count": null,
   "metadata": {},
   "outputs": [],
   "source": []
  },
  {
   "cell_type": "code",
   "execution_count": null,
   "metadata": {},
   "outputs": [],
   "source": []
  },
  {
   "cell_type": "code",
   "execution_count": null,
   "metadata": {},
   "outputs": [],
   "source": []
  },
  {
   "cell_type": "code",
   "execution_count": null,
   "metadata": {},
   "outputs": [],
   "source": []
  },
  {
   "cell_type": "code",
   "execution_count": null,
   "metadata": {},
   "outputs": [],
   "source": []
  },
  {
   "cell_type": "code",
   "execution_count": null,
   "metadata": {},
   "outputs": [],
   "source": [
    "##### define function to simulate genotypes under a stepping stone migration model\n",
    "def step_geno(l,ss_each=ss*2,tmove=100):\n",
    "    #N is the population size for each deme\n",
    "    #ss_each is the haploid sample size for each deme\n",
    "    #l is the length of the chromosome\n",
    "    #tmove is the number of generations past which all lineages are moved into one deme.\n",
    "    \t#The is to reduce computational time when the no. of lineages << ndemes\n",
    "        #also to mimic migration of an ancient population after which structure is established\n",
    "        #set to 1000 generations by default\n",
    "\n",
    "    sample_sizes=[ss_each]*d\n",
    "\n",
    "    population_configurations = [\n",
    "    msprime.PopulationConfiguration(sample_size=k)\n",
    "    for k in sample_sizes]\n",
    "\n",
    "    #specify demographic event - move all lineages to one population after tmove generations\n",
    "    demog=[\n",
    "        msprime.MassMigration(\n",
    "            time=tmove,\n",
    "            source=i,\n",
    "            destination=d-1,\n",
    "            proportion=1.0) for i in range(d-1)]\n",
    "\n",
    "    demog.append(#change migration rate among demes to be 0\n",
    "        msprime.MigrationRateChange(\n",
    "            time=tmove,\n",
    "            rate=0))\n",
    "\n",
    "\n",
    "    ts=msprime.simulate(Ne=args.npop,\n",
    "                          population_configurations=population_configurations,\n",
    "                          migration_matrix=mig_mat,\n",
    "                          mutation_rate=args.mu,\n",
    "                          recombination_rate=args.rho,\n",
    "                          length=l,\n",
    "                       demographic_events=demog,\n",
    "                       num_replicates=100,\n",
    "                       random_seed=args.seed)\n",
    "\n",
    "    return(ts)"
   ]
  },
  {
   "cell_type": "code",
   "execution_count": null,
   "metadata": {},
   "outputs": [],
   "source": []
  }
 ],
 "metadata": {
  "kernelspec": {
   "display_name": "Python 3",
   "language": "python",
   "name": "python3"
  },
  "language_info": {
   "codemirror_mode": {
    "name": "ipython",
    "version": 3
   },
   "file_extension": ".py",
   "mimetype": "text/x-python",
   "name": "python",
   "nbconvert_exporter": "python",
   "pygments_lexer": "ipython3",
   "version": "3.6.7"
  }
 },
 "nbformat": 4,
 "nbformat_minor": 4
}
