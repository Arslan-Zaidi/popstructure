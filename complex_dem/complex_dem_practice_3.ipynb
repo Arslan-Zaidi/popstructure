{
 "cells": [
  {
   "cell_type": "code",
   "execution_count": 575,
   "metadata": {},
   "outputs": [],
   "source": [
    "class Namespace:\n",
    "    def __init__(self, **kwargs):\n",
    "        self.__dict__.update(kwargs)\n",
    "\n",
    "args=Namespace(rho=0,\n",
    "               seed=9384,\n",
    "              npop=1e4,\n",
    "              mu=1e-08,\n",
    "              m=0.05,\n",
    "              ndemes=5,\n",
    "              tmove=100,\n",
    "              ss=50)"
   ]
  },
  {
   "cell_type": "code",
   "execution_count": 373,
   "metadata": {},
   "outputs": [],
   "source": [
    "import msprime\n",
    "import numpy as np\n",
    "import statistics\n",
    "import math\n",
    "import allel\n",
    "import pandas as pd\n",
    "import statsmodels.api as sm\n",
    "from scipy import (stats,ndimage)"
   ]
  },
  {
   "cell_type": "code",
   "execution_count": 658,
   "metadata": {},
   "outputs": [],
   "source": [
    "# set up the initial population\n",
    "ss_each=args.ss*2\n",
    "sample_sizes=[ss_each]*5\n",
    "\n",
    "population_configurations = [\n",
    "msprime.PopulationConfiguration(sample_size=k)\n",
    "for k in sample_sizes]\n",
    "\n",
    "def fmig( m, ndemes):\n",
    "    migration_matrix = np.full( (ndemes,ndemes), m)\n",
    "    np.fill_diagonal(migration_matrix, 0)\n",
    "    return migration_matrix\n",
    "\n",
    "def fmig2(m, ndemes):\n",
    "    migration_matrix = np.zeros( (ndemes,ndemes) )\n",
    "    migration_matrix[0,1] = migration_matrix[1,0] = m\n",
    "    return migration_matrix\n",
    "\n",
    "#population_configurations.extend([msprime.PopulationConfiguration(sample_size=0)]*3)\n",
    "\n",
    "migration_matrix = fmig2(0.003, ndemes=args.ndemes)"
   ]
  },
  {
   "cell_type": "code",
   "execution_count": 659,
   "metadata": {},
   "outputs": [
    {
     "data": {
      "text/plain": [
       "array([[0.   , 0.003, 0.   , 0.   , 0.   ],\n",
       "       [0.003, 0.   , 0.   , 0.   , 0.   ],\n",
       "       [0.   , 0.   , 0.   , 0.   , 0.   ],\n",
       "       [0.   , 0.   , 0.   , 0.   , 0.   ],\n",
       "       [0.   , 0.   , 0.   , 0.   , 0.   ]])"
      ]
     },
     "execution_count": 659,
     "metadata": {},
     "output_type": "execute_result"
    }
   ],
   "source": [
    "migration_matrix"
   ]
  },
  {
   "cell_type": "code",
   "execution_count": 660,
   "metadata": {},
   "outputs": [
    {
     "data": {
      "text/plain": [
       "(5, 5)"
      ]
     },
     "execution_count": 660,
     "metadata": {},
     "output_type": "execute_result"
    }
   ],
   "source": [
    "migration_matrix.shape"
   ]
  },
  {
   "cell_type": "code",
   "execution_count": 661,
   "metadata": {},
   "outputs": [],
   "source": [
    "demog_list=[\n",
    "    \n",
    "    #ancient history\n",
    "    #t 4500: Migrate lineages from 35 > 36 (WHG-south to Steppe) & from 0 > 36 (WHG1 to steppe)\n",
    "    [msprime.MassMigration(time=4500, source=1, destination=2, proportion=0.2)],\n",
    "    [msprime.MassMigration(time=4501, source=0, destination=2, proportion=0.5)],\n",
    "\n",
    "    #t 7510: Migrate lineages from 35 > 38 (WHG-south > EF) & 0>38 (WHG-n > EF)\n",
    "    [msprime.MassMigration(time=7510, source=1, destination=4, proportion=0.75)],\n",
    "    [msprime.MassMigration(time=7511, source=0, destination=4, proportion=0.4)],\n",
    "\n",
    "    #t 9000: Migrate lineages 36 > 37: steppe to EF & WHG1 and WHG2 merge\n",
    "    [msprime.MassMigration(time=9000, source=2, destination=3, proportion=0.5)],\n",
    "    [msprime.MassMigration(time=9001, source=1, destination=0, proportion=1)],\n",
    "    \n",
    "    [msprime.MigrationRateChange(time = 9001, rate=0)],\n",
    "\n",
    "    #t 25k: Migrate lineages 36 > 38, steppe & EF merge\n",
    "    [msprime.MassMigration(time=25000, source=2, destination=4, proportion=1)],\n",
    "\n",
    "    #t 30k: Migrate lineages 0 > 37: HG and basal Eurasians merge\n",
    "    [msprime.MassMigration(time=30000, source=0, destination=3, proportion=1)],\n",
    "\n",
    "    #t 45k: Migrate lineages 37 > 38: HG and basal Eurasians merge\n",
    "    [msprime.MassMigration(time=45000, source=3, destination=4, proportion=1)]]\n",
    "\n",
    "demog = [item for sublist in demog_list for item in sublist]"
   ]
  },
  {
   "cell_type": "code",
   "execution_count": 662,
   "metadata": {},
   "outputs": [],
   "source": [
    "\n",
    "ts=msprime.simulate(Ne=10000,\n",
    "                      population_configurations=population_configurations,\n",
    "                    migration_matrix = migration_matrix,\n",
    "                      mutation_rate=1e-08,\n",
    "                      recombination_rate=1e-08,\n",
    "                      length=1e7,\n",
    "                   demographic_events=demog)"
   ]
  },
  {
   "cell_type": "code",
   "execution_count": 663,
   "metadata": {},
   "outputs": [],
   "source": [
    "h = ts.genotype_matrix()"
   ]
  },
  {
   "cell_type": "code",
   "execution_count": 664,
   "metadata": {},
   "outputs": [],
   "source": [
    "daf=np.mean(h,axis=1)\n",
    "cm_ix=(daf > 0.05) & (daf < 0.95)\n",
    "\n",
    "h2 = allel.HaplotypeArray(h[cm_ix,:])"
   ]
  },
  {
   "cell_type": "code",
   "execution_count": 665,
   "metadata": {},
   "outputs": [],
   "source": [
    "g = h2.to_genotypes(ploidy=2)"
   ]
  },
  {
   "cell_type": "code",
   "execution_count": 666,
   "metadata": {},
   "outputs": [],
   "source": [
    "g2 = g.to_n_alt()"
   ]
  },
  {
   "cell_type": "code",
   "execution_count": 667,
   "metadata": {},
   "outputs": [],
   "source": [
    "g2_pruned_list = allel.locate_unlinked(g2, size=100, step=10, threshold=0.1)"
   ]
  },
  {
   "cell_type": "code",
   "execution_count": 668,
   "metadata": {},
   "outputs": [],
   "source": [
    "g3 = g[g2_pruned_list,:]"
   ]
  },
  {
   "cell_type": "code",
   "execution_count": 669,
   "metadata": {},
   "outputs": [],
   "source": [
    "subpops = np.array([list(range( ((i-1)*args.ss) , ((i-1)*args.ss)+args.ss)) for i in range(1,3)])\n"
   ]
  },
  {
   "cell_type": "code",
   "execution_count": 670,
   "metadata": {},
   "outputs": [],
   "source": [
    "a,b,c =allel.weir_cockerham_fst(g3, subpops)\n",
    "a = np.take(a,indices=1,axis=1)\n",
    "b = np.take(b,indices=1,axis=1)\n",
    "c = np.take(c,indices=1,axis=1)\n",
    "\n",
    "denom = a+b+c\n",
    "ix_0 = np.where(denom!=0)[0]\n",
    "fst = np.zeros(len(a))\n",
    "fst[ix_0] =  a[ix_0]/denom[ix_0]"
   ]
  },
  {
   "cell_type": "code",
   "execution_count": 671,
   "metadata": {},
   "outputs": [
    {
     "data": {
      "text/plain": [
       "0.0019514220945304904"
      ]
     },
     "execution_count": 671,
     "metadata": {},
     "output_type": "execute_result"
    }
   ],
   "source": [
    "np.mean(fst)"
   ]
  },
  {
   "cell_type": "code",
   "execution_count": 672,
   "metadata": {},
   "outputs": [
    {
     "data": {
      "text/plain": [
       "0.0030201612353392107"
      ]
     },
     "execution_count": 672,
     "metadata": {},
     "output_type": "execute_result"
    }
   ],
   "source": [
    "fst2 = np.sum(a)/( np.sum(a) + np.sum(b) + np.sum(c) ); fst2"
   ]
  },
  {
   "cell_type": "code",
   "execution_count": 673,
   "metadata": {},
   "outputs": [],
   "source": [
    "\n",
    "reps=msprime.simulate(Ne=10000,\n",
    "                      population_configurations=population_configurations,\n",
    "                    migration_matrix = migration_matrix,\n",
    "                      mutation_rate=1e-08,\n",
    "                      recombination_rate=1e-08,\n",
    "                      length=1e7,\n",
    "                   demographic_events=demog,\n",
    "                   num_replicates = 10)\n",
    "                      "
   ]
  },
  {
   "cell_type": "code",
   "execution_count": 674,
   "metadata": {},
   "outputs": [],
   "source": [
    "fstmat = np.zeros((100,1))\n",
    "subpops = np.array([list(range( ((i-1)*50) , ((i-1)*50)+50)) for i in range(1,3)])\n",
    "\n",
    "for i,ts in enumerate(reps):\n",
    "    h = ts.genotype_matrix()\n",
    "    daf=np.mean(h,axis=1)\n",
    "    cm_ix=(daf > 0.05) & (daf < 0.95)\n",
    "\n",
    "    h2 = allel.HaplotypeArray(h[cm_ix,:])\n",
    "    g = h2.to_genotypes(ploidy=2)\n",
    "    g2 = g.to_n_alt()\n",
    "    g2_pruned_list = allel.locate_unlinked(g2, size=100, step=10, threshold=0.1)\n",
    "    g3 = g[g2_pruned_list,:]\n",
    "\n",
    "\n",
    "    a,b,c =allel.weir_cockerham_fst(g3, subpops)\n",
    "    a = np.take(a,indices=1,axis=1)\n",
    "    b = np.take(b,indices=1,axis=1)\n",
    "    c = np.take(c,indices=1,axis=1)\n",
    "\n",
    "    #denom = a+b+c\n",
    "    #ix_0 = np.where(denom!=0)[0]\n",
    "    #fst = np.zeros(len(a))\n",
    "    #fst[ix_0] =  a[ix_0]/denom[ix_0]\n",
    "\n",
    "    fst2 = np.sum(a)/( np.sum(a) + np.sum(b) + np.sum(c) )\n",
    "    fstmat[i,0] = fst2\n",
    "    "
   ]
  },
  {
   "cell_type": "code",
   "execution_count": 675,
   "metadata": {},
   "outputs": [
    {
     "data": {
      "text/plain": [
       "(array([90.,  0.,  0.,  0.,  0.,  1.,  2.,  4.,  1.,  2.]),\n",
       " array([0.        , 0.00049378, 0.00098757, 0.00148135, 0.00197513,\n",
       "        0.00246892, 0.0029627 , 0.00345649, 0.00395027, 0.00444405,\n",
       "        0.00493784]),\n",
       " <a list of 10 Patch objects>)"
      ]
     },
     "execution_count": 675,
     "metadata": {},
     "output_type": "execute_result"
    },
    {
     "data": {
      "image/png": "[encoded data removed]",
      "text/plain": [
       "<Figure size 432x288 with 1 Axes>"
      ]
     },
     "metadata": {
      "needs_background": "light"
     },
     "output_type": "display_data"
    }
   ],
   "source": [
    "plt.hist(fstmat)"
   ]
  },
  {
   "cell_type": "code",
   "execution_count": 676,
   "metadata": {},
   "outputs": [
    {
     "data": {
      "text/plain": [
       "0.00037648815589136716"
      ]
     },
     "execution_count": 676,
     "metadata": {},
     "output_type": "execute_result"
    }
   ],
   "source": [
    "np.mean(fstmat)"
   ]
  }
 ],
 "metadata": {
  "kernelspec": {
   "display_name": "Python 3",
   "language": "python",
   "name": "python3"
  },
  "language_info": {
   "codemirror_mode": {
    "name": "ipython",
    "version": 3
   },
   "file_extension": ".py",
   "mimetype": "text/x-python",
   "name": "python",
   "nbconvert_exporter": "python",
   "pygments_lexer": "ipython3",
   "version": "3.6.8"
  }
 },
 "nbformat": 4,
 "nbformat_minor": 4
}
