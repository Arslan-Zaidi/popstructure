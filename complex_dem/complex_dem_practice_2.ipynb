{
 "cells": [
  {
   "cell_type": "code",
   "execution_count": 1,
   "metadata": {},
   "outputs": [],
   "source": [
    "class Namespace:\n",
    "    def __init__(self, **kwargs):\n",
    "        self.__dict__.update(kwargs)\n",
    "\n",
    "args=Namespace(rho=0,\n",
    "               seed=9384,\n",
    "              npop=1e4,\n",
    "              mu=1e-08,\n",
    "              m=0.05,\n",
    "              ndemes=36,\n",
    "              tmove=100,\n",
    "              ss=10)"
   ]
  },
  {
   "cell_type": "code",
   "execution_count": 2,
   "metadata": {},
   "outputs": [],
   "source": [
    "import msprime\n",
    "import numpy as np\n",
    "import statistics\n",
    "import math\n",
    "import allel\n",
    "import pandas as pd\n",
    "import statsmodels.api as sm\n",
    "from scipy import (stats,ndimage)"
   ]
  },
  {
   "cell_type": "code",
   "execution_count": 3,
   "metadata": {},
   "outputs": [],
   "source": [
    "#number of demes\n",
    "d=args.ndemes\n",
    "\n",
    "# dimension of square grid\n",
    "dim=int(np.sqrt(d))\n",
    "\n",
    "# define 2d grid to with deme identity\n",
    "pmat=np.arange(0,d).reshape(dim,dim)"
   ]
  },
  {
   "cell_type": "code",
   "execution_count": 4,
   "metadata": {},
   "outputs": [],
   "source": [
    "#define function to generate adjacency matrix\n",
    "#arguments:\n",
    "#m = migration rate in one direction\n",
    "#nd = number of demes\n",
    "def step_mig_mat(m,nd):\n",
    "    #m is the uni-directional symmetric migration rate\n",
    "    #NOTE: nd MUST be a squared number\n",
    "    if(math.sqrt(nd).is_integer()==False):\n",
    "        raise ValueError(\"nd must be a squared number (e.g. 4, 9, 16 ...) for the 2D model\")\n",
    "    else:\n",
    "        nd2=int(math.sqrt(nd))\n",
    "        #create matrix which will be used to determine which cells are adjacent in 2-dimensions\n",
    "        #diagonals not considered for now but can be incorporated later if needed\n",
    "        pmat=np.arange(0,nd).reshape(nd2,nd2)\n",
    "\n",
    "        #create empty migration matrix to be filled in. This will be the output\n",
    "        mmat=np.zeros(shape=[ (nd+3),(nd+3) ])\n",
    "\n",
    "        #go through each cell in pmat and find out which cells are adjacent\n",
    "        #first define functions to take care of corners and sides\n",
    "        def contain(ix,max_ix):\n",
    "            if ix<0:\n",
    "                return(0)\n",
    "            if ix>(max_ix-1):\n",
    "                return(max_ix-1)\n",
    "            else:\n",
    "                return(ix)\n",
    "\n",
    "        for ii in range(nd):\n",
    "            center_ix=np.where(pmat==ii)\n",
    "            top_ix=pmat[contain(center_ix[0]-1,nd2),contain(center_ix[1],nd2)]\n",
    "            bottom_ix=pmat[contain(center_ix[0]+1,nd2),contain(center_ix[1],nd2)]\n",
    "            left_ix=pmat[contain(center_ix[0],nd2),contain(center_ix[1]-1,nd2)]\n",
    "            right_ix=pmat[contain(center_ix[0],nd2),contain(center_ix[1]+1,nd2)]\n",
    "\n",
    "            mmat[ii,top_ix]=mmat[ii,bottom_ix]=mmat[ii,left_ix]=mmat[ii,right_ix]=m\n",
    "            mmat[top_ix,ii]=mmat[bottom_ix,ii]=mmat[left_ix,ii]=mmat[right_ix,ii]=m\n",
    "\n",
    "            mmat[ii,ii]=0\n",
    "\n",
    "    return(mmat)\n",
    "\n",
    "#generate migration matrix with migration rate provided by user\n",
    "mig_mat=step_mig_mat(m=0.05,nd=d)"
   ]
  },
  {
   "cell_type": "code",
   "execution_count": 35,
   "metadata": {},
   "outputs": [],
   "source": [
    "#set up the initial population\n",
    "ss_each=args.ss*2\n",
    "sample_sizes=[ss_each]*36\n",
    "\n",
    "population_configurations = [\n",
    "msprime.PopulationConfiguration(sample_size=k)\n",
    "for k in sample_sizes]\n",
    "\n",
    "population_configurations.extend([msprime.PopulationConfiguration(sample_size=0)]*3)\n"
   ]
  },
  {
   "cell_type": "code",
   "execution_count": 38,
   "metadata": {},
   "outputs": [],
   "source": [
    "demog_list=[\n",
    "    #change migration rate to 0 on the 100th generation\n",
    "    [msprime.MigrationRateChange(time=100,rate=0)],\n",
    "    #move lineages to the north (deme = 0) or south (deme = 35) to create N-S gradient \n",
    "    [msprime.MassMigration(time=100, source=i, destination=3, proportion=1.0) for i in range(1,6)],\n",
    "    [msprime.MassMigration(time=100, source=i, destination=3, proportion=0.8) for i in range(6,12)],\n",
    "    [msprime.MassMigration(time=100, source=i, destination=3, proportion=0.6) for i in range(12,18)],\n",
    "    [msprime.MassMigration(time=100, source=i, destination=3, proportion=0.4) for i in range(18,24)],\n",
    "    [msprime.MassMigration(time=100, source=i, destination=3, proportion=0.2) for i in range(24,30)],\n",
    "    [msprime.MassMigration(time=100.1, source=i, destination=32, proportion=1.0) for i in range(6,12)],\n",
    "    [msprime.MassMigration(time=100.1, source=i, destination=32, proportion=1.0) for i in range(12,18)],\n",
    "    [msprime.MassMigration(time=100.1, source=i, destination=32, proportion=1.0) for i in range(18,24)],\n",
    "    [msprime.MassMigration(time=100.1, source=i, destination=32, proportion=1.0) for i in range(24,30)],\n",
    "    [msprime.MassMigration(time=100.1, source=i, destination=32, proportion=1.0) for i in range(30,35)],\n",
    "    \n",
    "    #ancient history\n",
    "    #t 4500: Migrate lineages from 35 > 36 (WHG-south to Steppe) & from 0 > 36 (WHG1 to steppe)\n",
    "    [msprime.MassMigration(time=4500, source=35, destination=36, proportion=0.2)],\n",
    "    [msprime.MassMigration(time=4501, source=0, destination=36, proportion=0.5)],\n",
    "\n",
    "    #t 7510: Migrate lineages from 35 > 38 (WHG-south > EF) & 0>38 (WHG-n > EF)\n",
    "    [msprime.MassMigration(time=7510, source=35, destination=38, proportion=0.75)],\n",
    "    [msprime.MassMigration(time=7511, source=0, destination=38, proportion=0.4)],\n",
    "\n",
    "    #t 9000: Migrate lineages 36 > 37: steppe to EF & WHG1 and WHG2 merge\n",
    "    [msprime.MassMigration(time=9000, source=36, destination=37, proportion=0.5)],\n",
    "    [msprime.MassMigration(time=9001, source=35, destination=0, proportion=1)],\n",
    "\n",
    "    #t 25k: Migrate lineages 36 > 38, steppe & EF merge\n",
    "    [msprime.MassMigration(time=25000, source=36, destination=38, proportion=1)],\n",
    "\n",
    "    #t 30k: Migrate lineages 0 > 37: HG and basal Eurasians merge\n",
    "    [msprime.MassMigration(time=30000, source=0, destination=37, proportion=1)],\n",
    "\n",
    "    #t 45k: Migrate lineages 37 > 38: HG and basal Eurasians merge\n",
    "    [msprime.MassMigration(time=45000, source=37, destination=38, proportion=1)]]\n",
    "\n",
    "demog = [item for sublist in demog_list for item in sublist]"
   ]
  },
  {
   "cell_type": "code",
   "execution_count": 39,
   "metadata": {},
   "outputs": [
    {
     "name": "stdout",
     "output_type": "stream",
     "text": [
      "CPU times: user 96.1 ms, sys: 2.11 ms, total: 98.3 ms\n",
      "Wall time: 97 ms\n"
     ]
    }
   ],
   "source": [
    "%%time\n",
    "ts=msprime.simulate(Ne=10000,\n",
    "                      population_configurations=population_configurations,\n",
    "                      migration_matrix=mig_mat,\n",
    "                      mutation_rate=1e-08,\n",
    "                      recombination_rate=0,\n",
    "                      length=1e6,\n",
    "                   demographic_events=demog)"
   ]
  },
  {
   "cell_type": "code",
   "execution_count": 41,
   "metadata": {},
   "outputs": [],
   "source": [
    "import allel"
   ]
  },
  {
   "cell_type": "code",
   "execution_count": 42,
   "metadata": {},
   "outputs": [],
   "source": [
    "g = ts.genotype_matrix()"
   ]
  },
  {
   "cell_type": "code",
   "execution_count": 44,
   "metadata": {},
   "outputs": [
    {
     "data": {
      "text/plain": [
       "array([[0, 0, 0, ..., 0, 0, 0],\n",
       "       [0, 0, 0, ..., 0, 0, 0],\n",
       "       [0, 0, 0, ..., 0, 0, 0],\n",
       "       ...,\n",
       "       [0, 0, 0, ..., 0, 0, 0],\n",
       "       [0, 0, 0, ..., 0, 0, 0],\n",
       "       [0, 0, 0, ..., 0, 0, 0]], dtype=int8)"
      ]
     },
     "execution_count": 44,
     "metadata": {},
     "output_type": "execute_result"
    }
   ],
   "source": [
    "g"
   ]
  },
  {
   "cell_type": "code",
   "execution_count": null,
   "metadata": {},
   "outputs": [],
   "source": []
  }
 ],
 "metadata": {
  "kernelspec": {
   "display_name": "Python 3",
   "language": "python",
   "name": "python3"
  },
  "language_info": {
   "codemirror_mode": {
    "name": "ipython",
    "version": 3
   },
   "file_extension": ".py",
   "mimetype": "text/x-python",
   "name": "python",
   "nbconvert_exporter": "python",
   "pygments_lexer": "ipython3",
   "version": "3.6.8"
  }
 },
 "nbformat": 4,
 "nbformat_minor": 4
}
