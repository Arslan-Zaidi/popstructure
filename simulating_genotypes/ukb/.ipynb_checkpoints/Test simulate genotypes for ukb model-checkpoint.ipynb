{
 "cells": [
  {
   "cell_type": "code",
   "execution_count": 1,
   "metadata": {},
   "outputs": [],
   "source": [
    "import msprime\n",
    "import numpy as np\n",
    "import statistics\n",
    "import math\n",
    "import allel\n",
    "import pandas as pd\n",
    "import statsmodels.api as sm\n",
    "from scipy import (stats,ndimage)"
   ]
  },
  {
   "cell_type": "code",
   "execution_count": 5,
   "metadata": {},
   "outputs": [
    {
     "name": "stdout",
     "output_type": "stream",
     "text": [
      "loading data files\n"
     ]
    }
   ],
   "source": [
    "print(\"loading data files\")\n",
    "#load adjacency matrix\n",
    "#this will be the base for our migration matrix\n",
    "adj_mat=np.genfromtxt(\"uk_nuts2_adj.txt\",delimiter=\",\")\n",
    "\n",
    "#load column names and rownames for matrix\n",
    "mig_mat_id=pd.read_csv(\"uk_nuts2_adj_ids.txt\",header=None,names=[\"deme_id\"],sep=\"\\t\")\n",
    "\n",
    "#multiply with scaling factor - the migration rate\n",
    "mig_mat=0.08*adj_mat\n",
    "\n",
    "#load latitude and longitude for each deme\n",
    "bplace_summary=pd.read_csv(\"ukb_bplace_summary.txt\",sep=\"\\t\")\n",
    "\n",
    "#merge migmat_ids with bplace_summary to preserve the same order as the migration matrix\n",
    "bplace_summary2=mig_mat_id.merge(bplace_summary,left_on=\"deme_id\",right_on=\"nuts215cd\")\n",
    "\n",
    "#number of demes. should be the same as rows of blace_summary\n",
    "d=mig_mat.shape[0]\n",
    "\n",
    "#diploid sample size per deme\n",
    "ss=250\n",
    "\n",
    "total_inds=d*ss\n"
   ]
  },
  {
   "cell_type": "code",
   "execution_count": 6,
   "metadata": {},
   "outputs": [],
   "source": [
    "scheme=\"weighted\"\n",
    "\n",
    "if(scheme==\"uniform\"):\n",
    "    sample_sizes=[ss_each]*d\n",
    "\n",
    "if(scheme==\"weighted\"):\n",
    "    total_inds_ukb=np.sum(bplace_summary2['ninds'])\n",
    "    sample_sizes=(bplace_summary2['ninds']/total_inds_ukb) * total_inds\n"
   ]
  },
  {
   "cell_type": "code",
   "execution_count": null,
   "metadata": {},
   "outputs": [],
   "source": []
  }
 ],
 "metadata": {
  "kernelspec": {
   "display_name": "Python 3",
   "language": "python",
   "name": "python3"
  },
  "language_info": {
   "codemirror_mode": {
    "name": "ipython",
    "version": 3
   },
   "file_extension": ".py",
   "mimetype": "text/x-python",
   "name": "python",
   "nbconvert_exporter": "python",
   "pygments_lexer": "ipython3",
   "version": "3.6.8"
  }
 },
 "nbformat": 4,
 "nbformat_minor": 2
}
