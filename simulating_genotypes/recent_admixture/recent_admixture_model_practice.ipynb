{
 "cells": [
  {
   "cell_type": "code",
   "execution_count": 1,
   "metadata": {},
   "outputs": [],
   "source": [
    "import msprime, sys\n",
    "from math import log\n",
    "from math import exp\n"
   ]
  },
  {
   "cell_type": "code",
   "execution_count": null,
   "metadata": {},
   "outputs": [],
   "source": [
    "mu=1.25e-8 # mutation rate per bp\n",
    "rho=1e-8 # recombination rate per bp\n",
    "nbp = 1e8 # generate 100 Mb\n",
    "\n",
    "\n",
    "N0=7300 # initial population size\n",
    "Thum=5920 # time (gens) of advent of modern humans\n",
    "\n",
    "Naf=14474 # size of african population\n",
    "Tooa=2040 # number of generations back to Out of Africa\n",
    "Nb=1861 # size of out of Africa population\n",
    "mafb=1.5e-4 # migration rate Africa and Out-of-Africa\n",
    "\n",
    "Teu=920 # number generations back to Asia-Europe split\n",
    "Neu=1032 #; Nas=554 # bottleneck population sizes\n",
    "mafeu=2.5e-5 #; mafas=7.8e-6; meuas=3.11e-5 # mig. rates\n",
    "reu=0.0038 # growth rate per generation in Europe\n",
    "#ras=0.0048 # growth rate per generation in Asia\n",
    "\n",
    "Tadmix=12 # time of admixture\n",
    "Nadmix=30000 # initial size of admixed population\n",
    "radmix=.05 # growth rate of admixed population"
   ]
  },
  {
   "cell_type": "code",
   "execution_count": null,
   "metadata": {},
   "outputs": [],
   "source": [
    "# pop0 is Africa, pop1 is Europe, pop2 is Asia, pop3 is admixed\n",
    "refsamplesize = 200\n",
    "admsamplesize = 1000\n",
    "\n",
    "pop_config = [\n",
    "msprime.PopulationConfiguration(sample_size=refsamplesize,initial_size=Naf,growth_rate=0.0),\n",
    "msprime.PopulationConfiguration(sample_size=refsamplesize,initial_size=Neu*exp(reu*Teu),growth_rate=reu),\n",
    "msprime.PopulationConfiguration(sample_size=refsamplesize,initial_size=Nas*exp(ras*Teu),growth_rate=ras),\n",
    "msprime.PopulationConfiguration(sample_size=admsamplesize,initial_size=Nadmix*exp(radmix*Tadmix),growth_rate=radmix)]\n",
    "mig_mat = [[0,mafeu,mafas,0],[mafeu,0,meuas,0], [mafas,meuas,0,0],[0,0,0,0]]"
   ]
  }
 ],
 "metadata": {
  "kernelspec": {
   "display_name": "Python 3",
   "language": "python",
   "name": "python3"
  },
  "language_info": {
   "codemirror_mode": {
    "name": "ipython",
    "version": 3
   },
   "file_extension": ".py",
   "mimetype": "text/x-python",
   "name": "python",
   "nbconvert_exporter": "python",
   "pygments_lexer": "ipython3",
   "version": "3.6.7"
  }
 },
 "nbformat": 4,
 "nbformat_minor": 4
}
