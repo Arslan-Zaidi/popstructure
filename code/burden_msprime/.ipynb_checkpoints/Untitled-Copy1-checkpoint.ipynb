{
 "cells": [
  {
   "cell_type": "code",
   "execution_count": 1,
   "metadata": {},
   "outputs": [],
   "source": [
    "import msprime\n",
    "import numpy as np\n",
    "import statistics\n",
    "import math\n",
    "import allel\n",
    "import pandas as pd\n",
    "import statsmodels.api as sm\n",
    "from scipy import (stats,ndimage)\n"
   ]
  },
  {
   "cell_type": "code",
   "execution_count": 2,
   "metadata": {},
   "outputs": [],
   "source": [
    "d = 36\n",
    "\n",
    "# dimension of square grid\n",
    "dim=int(np.sqrt(d))\n",
    "\n",
    "# define 2d grid to with deme identity\n",
    "pmat=np.arange(0,d).reshape(dim,dim)"
   ]
  },
  {
   "cell_type": "code",
   "execution_count": 3,
   "metadata": {},
   "outputs": [],
   "source": [
    "#define function to generate adjacency matrix\n",
    "#arguments:\n",
    "#m = migration rate in one direction\n",
    "#nd = number of demes\n",
    "def step_mig_mat(m,nd):\n",
    "    #m is the uni-directional symmetric migration rate\n",
    "    #NOTE: nd MUST be a squared number\n",
    "    if(math.sqrt(nd).is_integer()==False):\n",
    "        raise ValueError(\"nd must be a squared number (e.g. 4, 9, 16 ...) for the 2D model\")\n",
    "    else:\n",
    "        nd2=int(math.sqrt(nd))\n",
    "        #create matrix which will be used to determine which cells are adjacent in 2-dimensions\n",
    "        #diagonals not considered for now but can be incorporated later if needed\n",
    "        pmat=np.arange(0,nd).reshape(nd2,nd2)\n",
    "\n",
    "        #create empty migration matrix to be filled in. This will be the output\n",
    "        mmat=np.zeros(shape=[nd,nd])\n",
    "\n",
    "        #go through each cell in pmat and find out which cells are adjacent\n",
    "        #first define functions to take care of corners and sides\n",
    "        def contain(ix,max_ix):\n",
    "            if ix<0:\n",
    "                return(0)\n",
    "            if ix>(max_ix-1):\n",
    "                return(max_ix-1)\n",
    "            else:\n",
    "                return(ix)\n",
    "\n",
    "        for ii in range(nd):\n",
    "            center_ix=np.where(pmat==ii)\n",
    "            top_ix=pmat[contain(center_ix[0]-1,nd2),contain(center_ix[1],nd2)]\n",
    "            bottom_ix=pmat[contain(center_ix[0]+1,nd2),contain(center_ix[1],nd2)]\n",
    "            left_ix=pmat[contain(center_ix[0],nd2),contain(center_ix[1]-1,nd2)]\n",
    "            right_ix=pmat[contain(center_ix[0],nd2),contain(center_ix[1]+1,nd2)]\n",
    "\n",
    "            mmat[ii,top_ix]=mmat[ii,bottom_ix]=mmat[ii,left_ix]=mmat[ii,right_ix]=m\n",
    "            mmat[top_ix,ii]=mmat[bottom_ix,ii]=mmat[left_ix,ii]=mmat[right_ix,ii]=m\n",
    "\n",
    "            mmat[ii,ii]=0\n",
    "\n",
    "    return(mmat)\n"
   ]
  },
  {
   "cell_type": "code",
   "execution_count": 5,
   "metadata": {},
   "outputs": [],
   "source": [
    "#generate migration matrix with migration rate provided by user\n",
    "mig_mat=step_mig_mat(m=0.05,nd=d)\n",
    "\n",
    "#diploid sample size within each deme\n",
    "ss=50\n",
    "\n",
    "#number of haplotypes\n",
    "nhaps=ss*2\n",
    "\n",
    "##### define function to simulate genotypes under a stepping stone migration model\n",
    "def step_geno(ss_each=ss*2,tmove=100,rho=0):\n",
    "    #N is the population size for each deme\n",
    "    #ss_each is the haploid sample size for each deme\n",
    "    #l is the length of the chromosome\n",
    "    #tmove is the number of generations past which all lineages are moved into one deme.\n",
    "    \t#The is to reduce computational time when the no. of lineages << ndemes\n",
    "        #also to mimic migration of an ancient population after which structure is established\n",
    "        #set to 1000 generations by default\n",
    "\n",
    "    sample_sizes=[ss_each]*d\n",
    "\n",
    "    population_configurations = [\n",
    "    msprime.PopulationConfiguration(sample_size=k)\n",
    "    for k in sample_sizes]\n",
    "\n",
    "\n",
    "    if tmove==-9:\n",
    "         ts=msprime.simulate(Ne=1e4,\n",
    "                          population_configurations=population_configurations,\n",
    "                          migration_matrix=mig_mat,\n",
    "                          mutation_rate=1e-08,\n",
    "                          recombination_rate=rho,\n",
    "                          length=50000,\n",
    "                            num_replicates=100)\n",
    "    else:\n",
    "        #specify demographic event - move all lineages to one population after tmove generations\n",
    "        demog=[\n",
    "            msprime.MassMigration(\n",
    "                time=tmove,\n",
    "                source=i,\n",
    "                destination=d-1,\n",
    "                proportion=1.0) for i in range(d-1)]\n",
    "\n",
    "        demog.append(#change migration rate among demes to be 0\n",
    "            msprime.MigrationRateChange(\n",
    "                time=tmove,\n",
    "                rate=0))\n",
    "\n",
    "\n",
    "        ts=msprime.simulate(Ne=1e4,\n",
    "                              population_configurations=population_configurations,\n",
    "                              migration_matrix=mig_mat,\n",
    "                              mutation_rate=1e-08,\n",
    "                              recombination_rate=rho,\n",
    "                              length=50000,\n",
    "                           demographic_events=demog,\n",
    "                           num_replicates=100)\n",
    "\n",
    "    return(ts)"
   ]
  },
  {
   "cell_type": "code",
   "execution_count": 10,
   "metadata": {},
   "outputs": [
    {
     "name": "stdout",
     "output_type": "stream",
     "text": [
      "simulating genealogies\n",
      "calculating burden for each gene\n"
     ]
    }
   ],
   "source": [
    "print(\"simulating genealogies\")\n",
    "#simulate!\n",
    "ts=step_geno(ss_each=ss*2,tmove=100,rho=0)\n",
    "\n",
    "print(\"calculating burden for each gene\")\n",
    "#describe the exon structure of the genes\n",
    "#we don't need the introns or the UTRs as we did in SLIM\n",
    "gene_ranges=[(0,160),(7098,7258),(14196,14356),(21294,21454),(28392,28552),(35490,35650),(42588,42748),(49686,49846)]\n"
   ]
  },
  {
   "cell_type": "code",
   "execution_count": 14,
   "metadata": {},
   "outputs": [],
   "source": [
    "#describe the exon structure of the genes\n",
    "#we don't need the introns or the UTRs as we did in SLIM\n",
    "gene_ranges=[(0,160),(7098,7258),(14196,14356),(21294,21454),(28392,28552),(35490,35650),(42588,42748),(49686,49846)]\n",
    "\n",
    "#define vectors, which will be used to select the odd and even haplotypes of an individual\n",
    "evens=range(0,ss*2*d,2)\n",
    "odds=range(1,ss*2*d,2)\n",
    "\n",
    "#get burden and sample a single rare variant from each gene\n",
    "burden = np.empty((100,ss*36))\n",
    "nvariants = np.zeros((100,1))\n",
    "for j, tree_sequence in enumerate(ts):\n",
    "    dosage=[]\n",
    "    variants=[]\n",
    "    for variant in tree_sequence.variants():\n",
    "        if any(lower<=variant.site.position<=upper for (lower,upper) in gene_ranges):\n",
    "            daf=np.mean(variant.genotypes)\n",
    "            if(daf<0.001):\n",
    "                dosage.append(variant.genotypes[evens]+variant.genotypes[odds])\n",
    "                variants.append(1)\n",
    "\n",
    "    nvariants[j,:]=np.sum(variants)\n",
    "    #aggregate across all such variants and calculate burden for each individual\n",
    "    #check if the dosage is nonzero first\n",
    "    #found a situation where there were no rare variants in a gene (with rho=1e-08)\n",
    "    #if dosage==0, append nan. we will deal with this later\n",
    "    if(len(dosage)==0):\n",
    "        burden[j,:] = np.repeat(np.nan,ss*d)\n",
    "    else:\n",
    "        burden[j,:] = np.sum(dosage,axis=0)\n"
   ]
  },
  {
   "cell_type": "code",
   "execution_count": 12,
   "metadata": {},
   "outputs": [
    {
     "ename": "NameError",
     "evalue": "name 'nvariants' is not defined",
     "output_type": "error",
     "traceback": [
      "\u001b[0;31m---------------------------------------------------------------------------\u001b[0m",
      "\u001b[0;31mNameError\u001b[0m                                 Traceback (most recent call last)",
      "\u001b[0;32m<ipython-input-12-eb1b46b116e5>\u001b[0m in \u001b[0;36m<module>\u001b[0;34m\u001b[0m\n\u001b[0;32m----> 1\u001b[0;31m \u001b[0mnp\u001b[0m\u001b[0;34m.\u001b[0m\u001b[0mmean\u001b[0m\u001b[0;34m(\u001b[0m\u001b[0mnvariants\u001b[0m\u001b[0;34m)\u001b[0m\u001b[0;34m,\u001b[0m\u001b[0mnp\u001b[0m\u001b[0;34m.\u001b[0m\u001b[0mmin\u001b[0m\u001b[0;34m(\u001b[0m\u001b[0mnvariants\u001b[0m\u001b[0;34m)\u001b[0m\u001b[0;34m,\u001b[0m\u001b[0mnp\u001b[0m\u001b[0;34m.\u001b[0m\u001b[0mmax\u001b[0m\u001b[0;34m(\u001b[0m\u001b[0mnvariants\u001b[0m\u001b[0;34m)\u001b[0m\u001b[0;34m\u001b[0m\u001b[0;34m\u001b[0m\u001b[0m\n\u001b[0m",
      "\u001b[0;31mNameError\u001b[0m: name 'nvariants' is not defined"
     ]
    }
   ],
   "source": [
    "np.mean(nvariants),np.min(nvariants),np.max(nvariants)"
   ]
  },
  {
   "cell_type": "code",
   "execution_count": 9,
   "metadata": {},
   "outputs": [],
   "source": [
    "burden=np.column_stack((np.repeat(1,100),\n",
    "                        np.arange(0,100),\n",
    "                        burden))"
   ]
  },
  {
   "cell_type": "code",
   "execution_count": 10,
   "metadata": {},
   "outputs": [
    {
     "data": {
      "text/plain": [
       "array([[ 1.,  0.,  0., ...,  0.,  0.,  0.],\n",
       "       [ 1.,  1.,  0., ...,  0.,  0.,  0.],\n",
       "       [ 1.,  2.,  0., ...,  0.,  0.,  0.],\n",
       "       ...,\n",
       "       [ 1., 97.,  0., ...,  0.,  0.,  0.],\n",
       "       [ 1., 98.,  0., ...,  0.,  0.,  0.],\n",
       "       [ 1., 99.,  0., ...,  0.,  0.,  0.]])"
      ]
     },
     "execution_count": 10,
     "metadata": {},
     "output_type": "execute_result"
    }
   ],
   "source": [
    "burden"
   ]
  },
  {
   "cell_type": "code",
   "execution_count": 11,
   "metadata": {},
   "outputs": [],
   "source": [
    "#save burden to compressed file for future use\n",
    "np.savez_compressed('burden_test.haps.npz', burden)"
   ]
  },
  {
   "cell_type": "code",
   "execution_count": 12,
   "metadata": {},
   "outputs": [],
   "source": [
    "burden = np.load(\"burden_test.haps.npz\")\n",
    "burden = burden['arr_0']"
   ]
  },
  {
   "cell_type": "code",
   "execution_count": 13,
   "metadata": {},
   "outputs": [
    {
     "data": {
      "text/plain": [
       "((100, 9002),)"
      ]
     },
     "execution_count": 13,
     "metadata": {},
     "output_type": "execute_result"
    }
   ],
   "source": [
    "burden.shape,"
   ]
  },
  {
   "cell_type": "code",
   "execution_count": 14,
   "metadata": {},
   "outputs": [
    {
     "data": {
      "text/plain": [
       "7201712"
      ]
     },
     "execution_count": 14,
     "metadata": {},
     "output_type": "execute_result"
    }
   ],
   "source": [
    "import sys\n",
    "\n",
    "sys.getsizeof(burden)"
   ]
  },
  {
   "cell_type": "code",
   "execution_count": 15,
   "metadata": {},
   "outputs": [],
   "source": [
    "#load phenotype file\n",
    "pheno=pd.read_csv(\"pheno_gridt100_noge_s9k.train.1.txt\",sep=\"\\t\")\n",
    "\n",
    "#load genetic pcs\n",
    "gpc_com=np.loadtxt(\"genos_gridt100_l1e7_ss750_m0.05_chr1_20.rmdup.train.cm.200k.eigenvec\",\n",
    "                       usecols=range(2,102),\n",
    "                  skiprows=1)\n",
    "\n",
    "gpc_rare=np.loadtxt(\"genos_gridt100_l1e7_ss750_m0.05_chr1_20.rmdup.train.re.all.eigenvec\",\n",
    "                        usecols=range(2,102),\n",
    "                   skiprows=1)"
   ]
  },
  {
   "cell_type": "code",
   "execution_count": 16,
   "metadata": {},
   "outputs": [
    {
     "data": {
      "text/plain": [
       "(1468692, 112, 112)"
      ]
     },
     "execution_count": 16,
     "metadata": {},
     "output_type": "execute_result"
    }
   ],
   "source": [
    "sys.getsizeof(pheno),sys.getsizeof(gpc_com),sys.getsizeof(gpc_rare)"
   ]
  },
  {
   "cell_type": "code",
   "execution_count": 17,
   "metadata": {},
   "outputs": [],
   "source": [
    "def assoc(bmat_i,response,gpc_mat,npcs=0):\n",
    "    #bmat is the burden for the ith gene\n",
    "    #response is the phenotype (smooth or sharp)\n",
    "    #npcs is number of PCs to correct for (default=0)\n",
    "    if(np.isnan(bmat_i).any()):\n",
    "        return [np.nan,np.nan]\n",
    "    else:\n",
    "        if npcs==0:\n",
    "            predictors=sm.add_constant(bmat_i)\n",
    "            model=sm.OLS(response,predictors).fit()\n",
    "            beta=model.params[1]\n",
    "            pval=model.pvalues[1]\n",
    "\n",
    "        if npcs>0:\n",
    "            predictors=np.column_stack((bmat_i,gpc_mat[:,0:(npcs-1)]))\n",
    "            predictors=sm.add_constant(predictors)\n",
    "            model=sm.OLS(response,predictors).fit()\n",
    "            beta=model.params[1]\n",
    "            pval=model.pvalues[1]\n",
    "\n",
    "        return [beta,pval]"
   ]
  },
  {
   "cell_type": "code",
   "execution_count": 18,
   "metadata": {},
   "outputs": [
    {
     "name": "stdout",
     "output_type": "stream",
     "text": [
      "CPU times: user 2min 3s, sys: 7.54 s, total: 2min 11s\n",
      "Wall time: 1min 10s\n"
     ]
    }
   ],
   "source": [
    "%%time\n",
    "#carry out association test between burden and sharp effect\n",
    "ngenes=100\n",
    "np_p1=np.empty((ngenes,8))\n",
    "for i in range(0,ngenes):\n",
    "        #without correction\n",
    "        stat_result1=assoc(burden[i,2:],pheno['smooth'],gpc_com,npcs=0)\n",
    "        stat_result2=assoc(burden[i,2:],pheno['sharp'],gpc_com,npcs=0)\n",
    "\n",
    "        #correction using 100 common pcs\n",
    "        stat_result3=assoc(burden[i,2:],pheno['smooth'],gpc_com,npcs=100)\n",
    "        stat_result4=assoc(burden[i,2:],pheno['sharp'],gpc_com,npcs=100)\n",
    "\n",
    "        #correction using 100 rare pcs\n",
    "        stat_result5=assoc(burden[i,2:],pheno['smooth'],gpc_rare,npcs=100)\n",
    "        stat_result6=assoc(burden[i,2:],pheno['sharp'],gpc_rare,npcs=100)\n",
    "\n",
    "        np_p1[i,0]=1\n",
    "        np_p1[i,1]=i\n",
    "        np_p1[i,2]=stat_result1[1]\n",
    "        np_p1[i,3]=stat_result2[1]\n",
    "        np_p1[i,4]=stat_result3[1]\n",
    "        np_p1[i,5]=stat_result4[1]\n",
    "        np_p1[i,6]=stat_result5[1]\n",
    "        np_p1[i,7]=stat_result6[1]\n"
   ]
  },
  {
   "cell_type": "code",
   "execution_count": 68,
   "metadata": {},
   "outputs": [
    {
     "data": {
      "text/plain": [
       "(100, 8)"
      ]
     },
     "execution_count": 68,
     "metadata": {},
     "output_type": "execute_result"
    }
   ],
   "source": [
    "np_p1.shape"
   ]
  },
  {
   "cell_type": "code",
   "execution_count": 72,
   "metadata": {},
   "outputs": [],
   "source": [
    "np.savetxt(\"burden_gwas.txt\",np_p1,delimiter=\",\",fmt='%6.6g')\n"
   ]
  },
  {
   "cell_type": "code",
   "execution_count": 73,
   "metadata": {},
   "outputs": [],
   "source": [
    "#load longitude,latitude information\n",
    "pop = pd.read_csv(\"iid_train.txt\",sep=\"\\t\")"
   ]
  },
  {
   "cell_type": "code",
   "execution_count": 77,
   "metadata": {},
   "outputs": [],
   "source": [
    "for i in range(0,100):\n",
    "    key1='burden_'+str(i)\n",
    "    pop[key1]=burden[i,2:]"
   ]
  },
  {
   "cell_type": "code",
   "execution_count": 75,
   "metadata": {},
   "outputs": [
    {
     "data": {
      "text/html": [
       "<div>\n",
       "<style scoped>\n",
       "    .dataframe tbody tr th:only-of-type {\n",
       "        vertical-align: middle;\n",
       "    }\n",
       "\n",
       "    .dataframe tbody tr th {\n",
       "        vertical-align: top;\n",
       "    }\n",
       "\n",
       "    .dataframe thead th {\n",
       "        text-align: right;\n",
       "    }\n",
       "</style>\n",
       "<table border=\"1\" class=\"dataframe\">\n",
       "  <thead>\n",
       "    <tr style=\"text-align: right;\">\n",
       "      <th></th>\n",
       "      <th>FID</th>\n",
       "      <th>IID</th>\n",
       "      <th>deme</th>\n",
       "      <th>longitude</th>\n",
       "      <th>latitude</th>\n",
       "    </tr>\n",
       "  </thead>\n",
       "  <tbody>\n",
       "    <tr>\n",
       "      <th>0</th>\n",
       "      <td>tsk_0</td>\n",
       "      <td>tsk_0</td>\n",
       "      <td>0</td>\n",
       "      <td>0</td>\n",
       "      <td>0</td>\n",
       "    </tr>\n",
       "    <tr>\n",
       "      <th>1</th>\n",
       "      <td>tsk_3</td>\n",
       "      <td>tsk_3</td>\n",
       "      <td>0</td>\n",
       "      <td>0</td>\n",
       "      <td>0</td>\n",
       "    </tr>\n",
       "    <tr>\n",
       "      <th>2</th>\n",
       "      <td>tsk_6</td>\n",
       "      <td>tsk_6</td>\n",
       "      <td>0</td>\n",
       "      <td>0</td>\n",
       "      <td>0</td>\n",
       "    </tr>\n",
       "    <tr>\n",
       "      <th>3</th>\n",
       "      <td>tsk_9</td>\n",
       "      <td>tsk_9</td>\n",
       "      <td>0</td>\n",
       "      <td>0</td>\n",
       "      <td>0</td>\n",
       "    </tr>\n",
       "    <tr>\n",
       "      <th>4</th>\n",
       "      <td>tsk_12</td>\n",
       "      <td>tsk_12</td>\n",
       "      <td>0</td>\n",
       "      <td>0</td>\n",
       "      <td>0</td>\n",
       "    </tr>\n",
       "  </tbody>\n",
       "</table>\n",
       "</div>"
      ],
      "text/plain": [
       "      FID     IID  deme  longitude  latitude\n",
       "0   tsk_0   tsk_0     0          0         0\n",
       "1   tsk_3   tsk_3     0          0         0\n",
       "2   tsk_6   tsk_6     0          0         0\n",
       "3   tsk_9   tsk_9     0          0         0\n",
       "4  tsk_12  tsk_12     0          0         0"
      ]
     },
     "execution_count": 75,
     "metadata": {},
     "output_type": "execute_result"
    }
   ],
   "source": [
    "pop.head(5)"
   ]
  },
  {
   "cell_type": "code",
   "execution_count": 79,
   "metadata": {},
   "outputs": [],
   "source": [
    "##Calculate no. of demes the variant appears in\n",
    "gini_b=np.empty((100,36))\n",
    "bsum=[]\n",
    "for k in range(0,100):\n",
    "    key1='burden_'+str(k)\n",
    "\n",
    "    x=pop.groupby(['deme','longitude','latitude'],as_index=False)[key1].sum()\n",
    "    x=x[key1]\n",
    "    bsum.append(np.sum(x))\n",
    "\n",
    "    x2=np.cumsum(np.sort(x))/np.sum(x)\n",
    "    gini_b[k,:]=x2"
   ]
  },
  {
   "cell_type": "code",
   "execution_count": 81,
   "metadata": {},
   "outputs": [],
   "source": [
    "seed=burden[0,0]"
   ]
  },
  {
   "cell_type": "code",
   "execution_count": 82,
   "metadata": {},
   "outputs": [
    {
     "data": {
      "text/plain": [
       "1.0"
      ]
     },
     "execution_count": 82,
     "metadata": {},
     "output_type": "execute_result"
    }
   ],
   "source": [
    "seed"
   ]
  },
  {
   "cell_type": "code",
   "execution_count": 89,
   "metadata": {},
   "outputs": [],
   "source": [
    "final_output=np.column_stack((np.repeat(seed,100),\n",
    "                              np.arange(100),\n",
    "                              bsum,\n",
    "                              gini_b))"
   ]
  },
  {
   "cell_type": "code",
   "execution_count": 90,
   "metadata": {},
   "outputs": [
    {
     "data": {
      "text/plain": [
       "array([[ 1.        ,  0.        , 51.        , ...,  0.80392157,\n",
       "         0.88235294,  1.        ],\n",
       "       [ 1.        ,  1.        , 35.        , ...,  0.77142857,\n",
       "         0.85714286,  1.        ],\n",
       "       [ 1.        ,  2.        , 35.        , ...,  0.74285714,\n",
       "         0.85714286,  1.        ],\n",
       "       ...,\n",
       "       [ 1.        , 97.        , 37.        , ...,  0.83783784,\n",
       "         0.91891892,  1.        ],\n",
       "       [ 1.        , 98.        , 35.        , ...,  0.77142857,\n",
       "         0.85714286,  1.        ],\n",
       "       [ 1.        , 99.        , 51.        , ...,  0.84313725,\n",
       "         0.90196078,  1.        ]])"
      ]
     },
     "execution_count": 90,
     "metadata": {},
     "output_type": "execute_result"
    }
   ],
   "source": [
    "final_output"
   ]
  },
  {
   "cell_type": "code",
   "execution_count": null,
   "metadata": {},
   "outputs": [],
   "source": []
  }
 ],
 "metadata": {
  "kernelspec": {
   "display_name": "Python 3",
   "language": "python",
   "name": "python3"
  },
  "language_info": {
   "codemirror_mode": {
    "name": "ipython",
    "version": 3
   },
   "file_extension": ".py",
   "mimetype": "text/x-python",
   "name": "python",
   "nbconvert_exporter": "python",
   "pygments_lexer": "ipython3",
   "version": "3.6.8"
  }
 },
 "nbformat": 4,
 "nbformat_minor": 2
}
